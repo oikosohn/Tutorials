{
  "cells": [
    {
      "cell_type": "markdown",
      "metadata": {
        "id": "hWZG3wom8Le4"
      },
      "source": [
        "# Lab-12-7-bonus: sequence to sequence with attention chatbot \n",
        "### simple neural machine translation chatbot\n",
        "\n",
        "* sequence to sequence|\n",
        "* variable input sequence length\n",
        "* variable output sequence length\n",
        "* Luong attention\n",
        "  \n",
        "### Reference\n",
        "* [Sequence to Sequence Learning with Neural Networks](https://arxiv.org/abs/1409.3215)\n",
        "* [Effective Approaches to Attention-based Neural Machine Translation](https://arxiv.org/abs/1508.04025)\n",
        "* [Neural Machine Translation with Attention from Tensorflow](https://github.com/tensorflow/tensorflow/blob/master/tensorflow/contrib/eager/python/examples/nmt_with_attention/nmt_with_attention.ipynb)"
      ]
    },
    {
      "cell_type": "code",
      "source": [
        "!sudo apt-get install -y fonts-nanum\n",
        "!sudo fc-cache -fv\n",
        "!rm ~/.cache/matplotlib -rf"
      ],
      "metadata": {
        "colab": {
          "base_uri": "https://localhost:8080/"
        },
        "id": "gfdkCZq8DYHR",
        "outputId": "3da6b85e-0057-4680-9417-f58f01c99a18"
      },
      "execution_count": 1,
      "outputs": [
        {
          "output_type": "stream",
          "name": "stdout",
          "text": [
            "Reading package lists... Done\n",
            "Building dependency tree       \n",
            "Reading state information... Done\n",
            "The following NEW packages will be installed:\n",
            "  fonts-nanum\n",
            "0 upgraded, 1 newly installed, 0 to remove and 37 not upgraded.\n",
            "Need to get 9,604 kB of archives.\n",
            "After this operation, 29.5 MB of additional disk space will be used.\n",
            "Get:1 http://archive.ubuntu.com/ubuntu bionic/universe amd64 fonts-nanum all 20170925-1 [9,604 kB]\n",
            "Fetched 9,604 kB in 1s (9,847 kB/s)\n",
            "debconf: unable to initialize frontend: Dialog\n",
            "debconf: (No usable dialog-like program is installed, so the dialog based frontend cannot be used. at /usr/share/perl5/Debconf/FrontEnd/Dialog.pm line 76, <> line 1.)\n",
            "debconf: falling back to frontend: Readline\n",
            "debconf: unable to initialize frontend: Readline\n",
            "debconf: (This frontend requires a controlling tty.)\n",
            "debconf: falling back to frontend: Teletype\n",
            "dpkg-preconfigure: unable to re-open stdin: \n",
            "Selecting previously unselected package fonts-nanum.\n",
            "(Reading database ... 155229 files and directories currently installed.)\n",
            "Preparing to unpack .../fonts-nanum_20170925-1_all.deb ...\n",
            "Unpacking fonts-nanum (20170925-1) ...\n",
            "Setting up fonts-nanum (20170925-1) ...\n",
            "Processing triggers for fontconfig (2.12.6-0ubuntu2) ...\n",
            "/usr/share/fonts: caching, new cache contents: 0 fonts, 1 dirs\n",
            "/usr/share/fonts/truetype: caching, new cache contents: 0 fonts, 3 dirs\n",
            "/usr/share/fonts/truetype/humor-sans: caching, new cache contents: 1 fonts, 0 dirs\n",
            "/usr/share/fonts/truetype/liberation: caching, new cache contents: 16 fonts, 0 dirs\n",
            "/usr/share/fonts/truetype/nanum: caching, new cache contents: 10 fonts, 0 dirs\n",
            "/usr/local/share/fonts: caching, new cache contents: 0 fonts, 0 dirs\n",
            "/root/.local/share/fonts: skipping, no such directory\n",
            "/root/.fonts: skipping, no such directory\n",
            "/var/cache/fontconfig: cleaning cache directory\n",
            "/root/.cache/fontconfig: not cleaning non-existent cache directory\n",
            "/root/.fontconfig: not cleaning non-existent cache directory\n",
            "fc-cache: succeeded\n"
          ]
        }
      ]
    },
    {
      "cell_type": "markdown",
      "source": [
        "위 코드 실행 후 런타임 다시 시작(Ctrl + M)해야 어텐션 매트릭스의 한글 폰트가 깨지지 않음"
      ],
      "metadata": {
        "id": "61vKT9TIiCUA"
      }
    },
    {
      "cell_type": "code",
      "execution_count": 1,
      "metadata": {
        "colab": {
          "base_uri": "https://localhost:8080/"
        },
        "id": "tnxXKDjq3jEL",
        "outputId": "051e02f1-fc35-4a04-887f-8f37311d8185"
      },
      "outputs": [
        {
          "output_type": "stream",
          "name": "stdout",
          "text": [
            "2.7.0\n"
          ]
        }
      ],
      "source": [
        "from __future__ import absolute_import, division, print_function\n",
        "\n",
        "import tensorflow as tf\n",
        "\n",
        "import matplotlib.pyplot as plt\n",
        "\n",
        "### matplotlib 한글 폰트 설정 #############################\n",
        "from matplotlib import font_manager, rc\n",
        "## for window #####\n",
        "# font_name = font_manager.FontProperties(fname=\"c:/Windows/Fonts/malgun.ttf\").get_name()\n",
        "# rc('font', family=font_name)\n",
        "## for mac #####\n",
        "#rc('font', family='AppleGothic') #for mac\n",
        "## for colab #####\n",
        "rc('font', family='NanumBarunGothic') \n",
        "## linux는 맨 아래 code 참고 #####\n",
        "\n",
        "from sklearn.model_selection import train_test_split\n",
        "\n",
        "import unicodedata\n",
        "import re\n",
        "import numpy as np\n",
        "import os\n",
        "import time\n",
        "\n",
        "print(tf.__version__)"
      ]
    },
    {
      "cell_type": "markdown",
      "metadata": {
        "id": "PmHtZiiV8Le8"
      },
      "source": [
        "## Chat data load"
      ]
    },
    {
      "cell_type": "markdown",
      "metadata": {
        "id": "4YAcL6sa8Le8"
      },
      "source": [
        "### konlpy 사전 설치가 필요함\n",
        "#### http://konlpy.org/ko/v0.5.2/install/ 참고"
      ]
    },
    {
      "cell_type": "code",
      "source": [
        "ls"
      ],
      "metadata": {
        "colab": {
          "base_uri": "https://localhost:8080/"
        },
        "id": "WdQ_ObpigUtL",
        "outputId": "872e4dd2-6b7a-4bb4-ba41-e1cdfb400eb3"
      },
      "execution_count": 3,
      "outputs": [
        {
          "output_type": "stream",
          "name": "stdout",
          "text": [
            "ChatbotData.csv  \u001b[0m\u001b[01;34mdata_out\u001b[0m/  \u001b[01;34msample_data\u001b[0m/\n"
          ]
        }
      ]
    },
    {
      "cell_type": "code",
      "source": [
        "!wget https://raw.githubusercontent.com/songys/Chatbot_data/master/ChatbotData.csv"
      ],
      "metadata": {
        "colab": {
          "base_uri": "https://localhost:8080/"
        },
        "id": "5E43e9oKgIzz",
        "outputId": "d5650ff0-5880-4bd8-e2f2-90874c662df5"
      },
      "execution_count": 4,
      "outputs": [
        {
          "output_type": "stream",
          "name": "stdout",
          "text": [
            "--2022-01-24 23:56:53--  https://raw.githubusercontent.com/songys/Chatbot_data/master/ChatbotData.csv\n",
            "Resolving raw.githubusercontent.com (raw.githubusercontent.com)... 185.199.108.133, 185.199.109.133, 185.199.110.133, ...\n",
            "Connecting to raw.githubusercontent.com (raw.githubusercontent.com)|185.199.108.133|:443... connected.\n",
            "HTTP request sent, awaiting response... 200 OK\n",
            "Length: 889842 (869K) [text/plain]\n",
            "Saving to: ‘ChatbotData.csv’\n",
            "\n",
            "ChatbotData.csv     100%[===================>] 868.99K  --.-KB/s    in 0.009s  \n",
            "\n",
            "2022-01-24 23:56:53 (99.0 MB/s) - ‘ChatbotData.csv’ saved [889842/889842]\n",
            "\n"
          ]
        }
      ]
    },
    {
      "cell_type": "code",
      "source": [
        "!pip install konlpy"
      ],
      "metadata": {
        "colab": {
          "base_uri": "https://localhost:8080/"
        },
        "id": "FpU0PiBweuNt",
        "outputId": "e2c74013-edf3-449e-9daa-de4cb9788965"
      },
      "execution_count": 5,
      "outputs": [
        {
          "output_type": "stream",
          "name": "stdout",
          "text": [
            "Collecting konlpy\n",
            "  Downloading konlpy-0.6.0-py2.py3-none-any.whl (19.4 MB)\n",
            "\u001b[K     |████████████████████████████████| 19.4 MB 65.4 MB/s \n",
            "\u001b[?25hRequirement already satisfied: lxml>=4.1.0 in /usr/local/lib/python3.7/dist-packages (from konlpy) (4.2.6)\n",
            "Requirement already satisfied: numpy>=1.6 in /usr/local/lib/python3.7/dist-packages (from konlpy) (1.19.5)\n",
            "Collecting JPype1>=0.7.0\n",
            "  Downloading JPype1-1.3.0-cp37-cp37m-manylinux_2_5_x86_64.manylinux1_x86_64.whl (448 kB)\n",
            "\u001b[K     |████████████████████████████████| 448 kB 49.4 MB/s \n",
            "\u001b[?25hRequirement already satisfied: typing-extensions in /usr/local/lib/python3.7/dist-packages (from JPype1>=0.7.0->konlpy) (3.10.0.2)\n",
            "Installing collected packages: JPype1, konlpy\n",
            "Successfully installed JPype1-1.3.0 konlpy-0.6.0\n"
          ]
        }
      ]
    },
    {
      "cell_type": "code",
      "execution_count": 4,
      "metadata": {
        "id": "mk84JxwV8Le8"
      },
      "outputs": [],
      "source": [
        "from konlpy.tag import Twitter\n",
        "import pandas as pd\n",
        "import enum\n",
        "import os\n",
        "import re\n",
        "from sklearn.model_selection import train_test_split\n",
        "import numpy as np"
      ]
    },
    {
      "cell_type": "code",
      "execution_count": 5,
      "metadata": {
        "id": "HHQBCW0C8Le9"
      },
      "outputs": [],
      "source": [
        "def loadData():\n",
        "    # 판다스를 통해서 데이터를 불러온다.\n",
        "    dataDF = pd.read_csv('ChatbotData.csv', header=0)\n",
        "    # 질문과 답변 열을 가져와 question과 answer에 넣는다.\n",
        "    question, answer = list(dataDF['Q']), list(dataDF['A'])\n",
        "#     dataset = dataDF['Q'] + '\\t' + dataDF['A']\n",
        "#     dataset = list(dataset)\n",
        "    # skleran에서 지원하는 함수를 통해서 학습 셋과 \n",
        "    # 테스트 셋을 나눈다.\n",
        "#     xTrain, xTest, yTrain, yTest = train_test_split(question, answer, test_size=0.33, random_state=42)\n",
        "    # 그 값을 리턴한다.\n",
        "#     return xTrain, yTrain, xTest, yTest\n",
        "    return question, answer\n",
        "\n",
        "def preproLikeMorphlized(data):\n",
        "    # 형태소 분석 모듈 객체를\n",
        "    # 생성합니다.\n",
        "\n",
        "    morphAnalyzer = Twitter()\n",
        "    # 형태소 토크나이즈 결과 문장을 받을\n",
        "    #  리스트를 생성합니다.\n",
        "    result_data = list()\n",
        "    # 데이터에 있는 매 문장에 대해 토크나이즈를\n",
        "    # 할 수 있도록 반복문을 선언합니다.\n",
        "    for seq in data:\n",
        "        # Twitter.morphs 함수를 통해 토크나이즈 된\n",
        "        # 리스트 객체를 받고 다시 공백문자를 기준으로\n",
        "        # 하여 문자열로 재구성 해줍니다.\n",
        "        morphlizedSeq = \" \".join(morphAnalyzer.morphs(seq.replace(' ', '')))\n",
        "        result_data.append(morphlizedSeq)\n",
        "\n",
        "    return result_data\n",
        "\n",
        "def dataTokenizer(data):\n",
        "    # 토크나이징 해서 담을 배열 생성\n",
        "    words = []\n",
        "    for sentence in data:\n",
        "        # FILTERS = \"([~.,!?\\\"':;)(])\"\n",
        "        # 위 필터와 같은 값들을 정규화 표현식을 \n",
        "        # 통해서 모두 \"\" 으로 변환 해주는 부분이다.\n",
        "        sentence = re.sub(change_filter, \"\", sentence)\n",
        "        for word in sentence.split():\n",
        "            words.append(word)\n",
        "    # 토그나이징과 정규표현식을 통해 만들어진 \n",
        "    # 값들을 넘겨 준다.\n",
        "    return [word for word in words if word]\n",
        "\n",
        "def preprocess_sentence(w):\n",
        "    \n",
        "    # creating a space between a word and the punctuation following it\n",
        "    # eg: \"he is a boy.\" => \"he is a boy .\" \n",
        "    # Reference:- https://stackoverflow.com/questions/3645931/python-padding-punctuation-with-white-spaces-keeping-punctuation\n",
        "    w = re.sub(r\"([?.!,¿])\", r\" \\1 \", w)\n",
        "    w = re.sub(r'[\" \"]+', \" \", w)\n",
        "    \n",
        "    w = w.rstrip().strip()\n",
        "    \n",
        "    # adding a start and an end token to the sentence\n",
        "    # so that the model know when to start and stop predicting.\n",
        "    w = '<start> ' + w + ' <end>'\n",
        "    \n",
        "    return w\n",
        "\n",
        "def create_dataset(data, num_examples):\n",
        "#     word_pairs = [[preprocess_sentence(w) for w in l]  for l in data[:num_examples]]\n",
        "    word_pairs = [[preprocess_sentence(l)]  for l in data[:num_examples]]\n",
        "    return word_pairs\n",
        "\n",
        "class LanguageIndex():\n",
        "    def __init__(self, lang):\n",
        "        self.lang = lang\n",
        "        self.word2idx = {}\n",
        "        self.idx2word = {}\n",
        "        self.vocab = set()\n",
        "\n",
        "        self.create_index()\n",
        "        \n",
        "    def create_index(self):\n",
        "        for phrase in self.lang:\n",
        "#             if self.vocab == '<start>':\n",
        "#                 pass\n",
        "            self.vocab.update(phrase.split(' '))\n",
        "    \n",
        "        self.vocab = sorted(self.vocab)\n",
        "    \n",
        "        self.word2idx['<pad>'] = 0\n",
        "#         self.word2idx['<start>'] = 1\n",
        "#         self.word2idx['<end>'] = 2\n",
        "#         self.word2idx['<unk>'] = 3\n",
        "\n",
        "        for index, word in enumerate(self.vocab):\n",
        "            self.word2idx[word] = index + 1\n",
        "\n",
        "        for word, index in self.word2idx.items():\n",
        "            self.idx2word[index] = word\n",
        "            \n",
        "def max_length(tensor):\n",
        "    return max(len(t) for t in tensor)"
      ]
    },
    {
      "cell_type": "code",
      "execution_count": 6,
      "metadata": {
        "id": "RAkSi1KG8Le_"
      },
      "outputs": [],
      "source": [
        "def load_dataset(path, num_examples):\n",
        "    \n",
        "    # 판다스를 통해서 데이터를 불러온다.\n",
        "    data_df = pd.read_csv(path, header=0)\n",
        "    # 질문과 답변 열을 가져와 question과 answer에 넣는다.\n",
        "    question, answer = list(data_df['Q']), list(data_df['A'])\n",
        "    \n",
        "    question = create_dataset(question, num_examples)\n",
        "    answer = create_dataset(answer, num_examples)\n",
        "    \n",
        "    print(len(question))\n",
        "    \n",
        "    pairs = [question[i] + answer[i] for i in range(num_examples)]\n",
        "    \n",
        "    # index language using the class defined above    \n",
        "    inp_lang = LanguageIndex(q for q, a in pairs)\n",
        "    targ_lang = LanguageIndex(a for q, a in pairs)\n",
        "    \n",
        "    # Vectorize the input and target languages\n",
        "    \n",
        "    # question\n",
        "    input_tensor = [[inp_lang.word2idx[s] for s in q.split(' ')] for q, a in pairs]\n",
        "    \n",
        "    # answer\n",
        "    target_tensor = [[targ_lang.word2idx[s] for s in a.split(' ')] for q, a in pairs]\n",
        "\n",
        "    # Calculate max_length of input and output tensor\n",
        "    # Here, we'll set those to the longest sentence in the dataset\n",
        "    max_length_inp, max_length_tar = max_length(input_tensor), max_length(target_tensor)\n",
        "    \n",
        "    # Padding the input and output tensor to the maximum length\n",
        "    input_tensor = tf.keras.preprocessing.sequence.pad_sequences(input_tensor, \n",
        "                                                                 maxlen=max_length_inp,\n",
        "                                                                 padding='post')\n",
        "    \n",
        "    target_tensor = tf.keras.preprocessing.sequence.pad_sequences(target_tensor, \n",
        "                                                                  maxlen=max_length_tar, \n",
        "                                                                  padding='post')\n",
        "    \n",
        "    return input_tensor, target_tensor, inp_lang, targ_lang, max_length_inp, max_length_tar    "
      ]
    },
    {
      "cell_type": "code",
      "execution_count": 7,
      "metadata": {
        "colab": {
          "base_uri": "https://localhost:8080/"
        },
        "id": "oFkidCUh8LfA",
        "outputId": "78323c99-70bb-460e-d920-c77b58d55600"
      },
      "outputs": [
        {
          "output_type": "stream",
          "name": "stdout",
          "text": [
            "11823\n"
          ]
        },
        {
          "output_type": "execute_result",
          "data": {
            "text/plain": [
              "(9458, 9458, 2365, 2365)"
            ]
          },
          "metadata": {},
          "execution_count": 7
        }
      ],
      "source": [
        "# Load dataset with limit\n",
        "\n",
        "num_examples = 11823\n",
        "\n",
        "input_tensor, target_tensor, inp_lang, targ_lang, max_length_inp, max_length_targ = load_dataset('ChatbotData.csv', num_examples)\n",
        "\n",
        "# Creating training and validation sets using an 80-20 split\n",
        "input_tensor_train, input_tensor_val, target_tensor_train, target_tensor_val = train_test_split(input_tensor, target_tensor, test_size=0.2)\n",
        "\n",
        "# Show length\n",
        "len(input_tensor_train), len(target_tensor_train), len(input_tensor_val), len(target_tensor_val)"
      ]
    },
    {
      "cell_type": "code",
      "execution_count": 8,
      "metadata": {
        "colab": {
          "base_uri": "https://localhost:8080/"
        },
        "id": "tHSRD0A38LfB",
        "outputId": "fc1d04f5-f0cd-4bf0-ac02-1717d6c0f6b6"
      },
      "outputs": [
        {
          "output_type": "execute_result",
          "data": {
            "text/plain": [
              "26"
            ]
          },
          "metadata": {},
          "execution_count": 8
        }
      ],
      "source": [
        "max_length_targ"
      ]
    },
    {
      "cell_type": "markdown",
      "metadata": {
        "id": "rgCLkfv5uO3d"
      },
      "source": [
        "### Create a tf.data dataset"
      ]
    },
    {
      "cell_type": "code",
      "execution_count": 9,
      "metadata": {
        "id": "TqHsArVZ3jFS"
      },
      "outputs": [],
      "source": [
        "BUFFER_SIZE = len(input_tensor_train)\n",
        "BATCH_SIZE = 64\n",
        "N_BATCH = BUFFER_SIZE//BATCH_SIZE\n",
        "embedding_dim = 256\n",
        "units = 1024\n",
        "vocab_inp_size = len(inp_lang.word2idx)\n",
        "vocab_tar_size = len(targ_lang.word2idx)\n",
        "\n",
        "dataset = tf.data.Dataset.from_tensor_slices((input_tensor_train, target_tensor_train)).shuffle(BUFFER_SIZE)\n",
        "dataset = dataset.batch(BATCH_SIZE, drop_remainder=True) #drop_reainder가 True이면, batch size가 적지 않도록 수정\n",
        "\n",
        "# The tensors in the resulting element will have an additional outer dimension, which will be batch_size (or N % batch_size for the last element if batch_size does not divide the number of input elements N evenly and drop_remainder is False). If your program depends on the batches having the same outer dimension, you should set the drop_remainder argument to True to prevent the smaller batch from being produced."
      ]
    },
    {
      "cell_type": "markdown",
      "metadata": {
        "id": "TNfHIF71ulLu"
      },
      "source": [
        "## Write the encoder and decoder model\n",
        "\n",
        "Here, we'll implement an encoder-decoder model with attention which you can read about in the TensorFlow [Neural Machine Translation (seq2seq) tutorial](https://www.tensorflow.org/tutorials/seq2seq). This example uses a more recent set of APIs. This notebook implements the [attention equations](https://www.tensorflow.org/tutorials/seq2seq#background_on_the_attention_mechanism) from the seq2seq tutorial. The following diagram shows that each input words is assigned a weight by the attention mechanism which is then used by the decoder to predict the next word in the sentence.\n",
        "\n",
        "<img src=\"https://www.tensorflow.org/images/seq2seq/attention_mechanism.jpg\" width=\"500\" alt=\"attention mechanism\">\n",
        "\n",
        "The input is put through an encoder model which gives us the encoder output of shape *(batch_size, max_length, hidden_size)* and the encoder hidden state of shape *(batch_size, hidden_size)*. \n",
        "\n",
        "Here are the equations that are implemented:\n",
        "\n",
        "<img src=\"https://www.tensorflow.org/images/seq2seq/attention_equation_0.jpg\" alt=\"attention equation 0\" width=\"800\">\n",
        "<img src=\"https://www.tensorflow.org/images/seq2seq/attention_equation_1.jpg\" alt=\"attention equation 1\" width=\"800\">\n",
        "\n",
        "We're using *Bahdanau attention*. Lets decide on notation before writing the simplified form:\n",
        "\n",
        "* FC = Fully connected (dense) layer\n",
        "* EO = Encoder output\n",
        "* H = hidden state\n",
        "* X = input to the decoder\n",
        "\n",
        "And the pseudo-code:\n",
        "\n",
        "* `score = FC(tanh(FC(EO) + FC(H)))`\n",
        "* `attention weights = softmax(score, axis = 1)`. Softmax by default is applied on the last axis but here we want to apply it on the *1st axis*, since the shape of score is *(batch_size, max_length, 1)*. `Max_length` is the length of our input. Since we are trying to assign a weight to each input, softmax should be applied on that axis.\n",
        "* `context vector = sum(attention weights * EO, axis = 1)`. Same reason as above for choosing axis as 1.\n",
        "* `embedding output` = The input to the decoder X is passed through an embedding layer.\n",
        "* `merged vector = concat(embedding output, context vector)`\n",
        "* This merged vector is then given to the GRU\n",
        "  \n",
        "The shapes of all the vectors at each step have been specified in the comments in the code:"
      ]
    },
    {
      "cell_type": "code",
      "execution_count": 10,
      "metadata": {
        "id": "avyJ_4VIUoHb"
      },
      "outputs": [],
      "source": [
        "def gru(units):\n",
        "    return tf.keras.layers.GRU(units, \n",
        "                               return_sequences=True, \n",
        "                               return_state=True, \n",
        "                               recurrent_activation='sigmoid', \n",
        "                               recurrent_initializer='glorot_uniform')"
      ]
    },
    {
      "cell_type": "code",
      "execution_count": 11,
      "metadata": {
        "id": "nZ2rI24i3jFg"
      },
      "outputs": [],
      "source": [
        "class Encoder(tf.keras.Model):\n",
        "    def __init__(self, vocab_size, embedding_dim, enc_units, batch_sz):\n",
        "        super(Encoder, self).__init__()\n",
        "        self.batch_sz = batch_sz\n",
        "        self.enc_units = enc_units\n",
        "        self.embedding = tf.keras.layers.Embedding(vocab_size, embedding_dim)\n",
        "        self.gru = gru(self.enc_units)\n",
        "        \n",
        "    def call(self, x, hidden):\n",
        "        x = self.embedding(x)\n",
        "        output, state = self.gru(x, initial_state = hidden)\n",
        "        print(\"state: {}\".format(state.shape))\n",
        "        print(\"output: {}\".format(state.shape))\n",
        "              \n",
        "        return output, state\n",
        "    \n",
        "    def initialize_hidden_state(self):\n",
        "        return tf.zeros((self.batch_sz, self.enc_units))"
      ]
    },
    {
      "cell_type": "code",
      "execution_count": 12,
      "metadata": {
        "id": "yJ_B3mhW3jFk"
      },
      "outputs": [],
      "source": [
        "class Decoder(tf.keras.Model):\n",
        "    def __init__(self, vocab_size, embedding_dim, dec_units, batch_sz):\n",
        "        super(Decoder, self).__init__()\n",
        "        self.batch_sz = batch_sz\n",
        "        self.dec_units = dec_units\n",
        "        self.embedding = tf.keras.layers.Embedding(vocab_size, embedding_dim)\n",
        "        self.gru = gru(self.dec_units)\n",
        "        self.fc = tf.keras.layers.Dense(vocab_size)\n",
        "        \n",
        "        # used for attention\n",
        "        self.W1 = tf.keras.layers.Dense(self.dec_units)\n",
        "        self.W2 = tf.keras.layers.Dense(self.dec_units)\n",
        "        self.V = tf.keras.layers.Dense(1)\n",
        "        \n",
        "    def call(self, x, hidden, enc_output):\n",
        "        # enc_output shape == (batch_size, max_length, hidden_size)\n",
        "        \n",
        "        # hidden shape == (batch_size, hidden size)\n",
        "        # hidden_with_time_axis shape == (batch_size, 1, hidden size)\n",
        "        # we are doing this to perform addition to calculate the score\n",
        "        hidden_with_time_axis = tf.expand_dims(hidden, 1)\n",
        "        # * `score = FC(tanh(FC(EO) + FC(H)))`\n",
        "        # score shape == (batch_size, max_length, 1)\n",
        "        # we get 1 at the last axis because we are applying tanh(FC(EO) + FC(H)) to self.V\n",
        "        score = self.V(tf.nn.tanh(self.W1(enc_output) + self.W2(hidden_with_time_axis)))\n",
        "                \n",
        "        #* `attention weights = softmax(score, axis = 1)`. Softmax by default is applied on the last axis but here we want to apply it on the *1st axis*, since the shape of score is *(batch_size, max_length, 1)*. `Max_length` is the length of our input. Since we are trying to assign a weight to each input, softmax should be applied on that axis.\n",
        "        # attention_weights shape == (batch_size, max_length, 1)\n",
        "        attention_weights = tf.nn.softmax(score, axis=1)\n",
        "        \n",
        "        # context_vector shape after sum == (batch_size, hidden_size)\n",
        "        # * `context vector = sum(attention weights * EO, axis = 1)`. Same reason as above for choosing axis as 1.\n",
        "        context_vector = attention_weights * enc_output\n",
        "        context_vector = tf.reduce_sum(context_vector, axis=1)\n",
        "        \n",
        "        # x shape after passing through embedding == (batch_size, 1, embedding_dim)\n",
        "        # * `embedding output` = The input to the decoder X is passed through an embedding layer.\n",
        "        x = self.embedding(x)\n",
        "        \n",
        "        # x shape after concatenation == (batch_size, 1, embedding_dim + hidden_size)\n",
        "        # * `merged vector = concat(embedding output, context vector)`\n",
        "        x = tf.concat([tf.expand_dims(context_vector, 1), x], axis=-1)\n",
        "        \n",
        "        # passing the concatenated vector to the GRU\n",
        "        output, state = self.gru(x)\n",
        "        \n",
        "        # output shape == (batch_size * 1, hidden_size)\n",
        "        output = tf.reshape(output, (-1, output.shape[2]))\n",
        "        \n",
        "        # output shape == (batch_size * 1, vocab)\n",
        "        x = self.fc(output)\n",
        "        \n",
        "        return x, state, attention_weights\n",
        "        \n",
        "    def initialize_hidden_state(self):\n",
        "        return tf.zeros((self.batch_sz, self.dec_units))"
      ]
    },
    {
      "cell_type": "code",
      "execution_count": 13,
      "metadata": {
        "colab": {
          "base_uri": "https://localhost:8080/"
        },
        "id": "P5UY8wko3jFp",
        "outputId": "ec654e29-bba1-4aa4-96a6-1ec426701fb7"
      },
      "outputs": [
        {
          "output_type": "stream",
          "name": "stdout",
          "text": [
            "13422 9856 256 1024 64\n"
          ]
        }
      ],
      "source": [
        "print(vocab_inp_size, vocab_tar_size, embedding_dim, units, BATCH_SIZE)\n",
        "\n",
        "encoder = Encoder(vocab_inp_size, embedding_dim, units, BATCH_SIZE)\n",
        "decoder = Decoder(vocab_tar_size, embedding_dim, units, BATCH_SIZE)"
      ]
    },
    {
      "cell_type": "markdown",
      "metadata": {
        "id": "_ch_71VbIRfK"
      },
      "source": [
        "## Define the optimizer and the loss function"
      ]
    },
    {
      "cell_type": "code",
      "execution_count": 14,
      "metadata": {
        "id": "WmTHr5iV3jFr"
      },
      "outputs": [],
      "source": [
        "optimizer = tf.keras.optimizers.Adam()\n",
        "\n",
        "def loss_function(real, pred):\n",
        "    mask = 1 - np.equal(real, 0)\n",
        "    loss_ = tf.nn.sparse_softmax_cross_entropy_with_logits(labels=real, logits=pred) * mask\n",
        "    \n",
        "#     print(\"real: {}\".format(real))\n",
        "#     print(\"pred: {}\".format(pred))\n",
        "#     print(\"mask: {}\".format(mask))\n",
        "#     print(\"loss: {}\".format(tf.reduce_mean(loss_)))\n",
        "    \n",
        "    return tf.reduce_mean(loss_)"
      ]
    },
    {
      "cell_type": "markdown",
      "metadata": {
        "id": "DMVWzzsfNl4e"
      },
      "source": [
        "## Checkpoints (Object-based saving)"
      ]
    },
    {
      "cell_type": "code",
      "execution_count": 15,
      "metadata": {
        "id": "Zj8bXQTgNwrF"
      },
      "outputs": [],
      "source": [
        "checkpoint_dir = './data_out/training_checkpoints'\n",
        "os.makedirs(checkpoint_dir, exist_ok=True)\n",
        "checkpoint_prefix = os.path.join(checkpoint_dir, \"ckpt\")\n",
        "checkpoint = tf.train.Checkpoint(optimizer=optimizer,\n",
        "                                 encoder=encoder,\n",
        "                                 decoder=decoder)"
      ]
    },
    {
      "cell_type": "markdown",
      "metadata": {
        "id": "hpObfY22IddU"
      },
      "source": [
        "## Training\n",
        "\n",
        "1. Pass the *input* through the *encoder* which return *encoder output* and the *encoder hidden state*.\n",
        "2. The encoder output, encoder hidden state and the decoder input (which is the *start token*) is passed to the decoder.\n",
        "3. The decoder returns the *predictions* and the *decoder hidden state*.\n",
        "4. The decoder hidden state is then passed back into the model and the predictions are used to calculate the loss.\n",
        "5. Use *teacher forcing* to decide the next input to the decoder.\n",
        "6. *Teacher forcing* is the technique where the *target word* is passed as the *next input* to the decoder.\n",
        "7. The final step is to calculate the gradients and apply it to the optimizer and backpropagate."
      ]
    },
    {
      "cell_type": "code",
      "execution_count": 16,
      "metadata": {
        "colab": {
          "base_uri": "https://localhost:8080/"
        },
        "id": "ddefjBMa3jF0",
        "scrolled": false,
        "outputId": "83fb8ae7-40ef-4e2d-b959-357ead37f3c7"
      },
      "outputs": [
        {
          "output_type": "stream",
          "name": "stdout",
          "text": [
            "state: (64, 1024)\n",
            "output: (64, 1024)\n",
            "Epoch 1 Batch 0 Loss 2.0393\n",
            "state: (64, 1024)\n",
            "output: (64, 1024)\n",
            "state: (64, 1024)\n",
            "output: (64, 1024)\n",
            "state: (64, 1024)\n",
            "output: (64, 1024)\n",
            "state: (64, 1024)\n",
            "output: (64, 1024)\n",
            "state: (64, 1024)\n",
            "output: (64, 1024)\n",
            "state: (64, 1024)\n",
            "output: (64, 1024)\n",
            "state: (64, 1024)\n",
            "output: (64, 1024)\n",
            "state: (64, 1024)\n",
            "output: (64, 1024)\n",
            "state: (64, 1024)\n",
            "output: (64, 1024)\n",
            "state: (64, 1024)\n",
            "output: (64, 1024)\n",
            "state: (64, 1024)\n",
            "output: (64, 1024)\n",
            "state: (64, 1024)\n",
            "output: (64, 1024)\n",
            "state: (64, 1024)\n",
            "output: (64, 1024)\n",
            "state: (64, 1024)\n",
            "output: (64, 1024)\n",
            "state: (64, 1024)\n",
            "output: (64, 1024)\n",
            "state: (64, 1024)\n",
            "output: (64, 1024)\n",
            "state: (64, 1024)\n",
            "output: (64, 1024)\n",
            "state: (64, 1024)\n",
            "output: (64, 1024)\n",
            "state: (64, 1024)\n",
            "output: (64, 1024)\n",
            "state: (64, 1024)\n",
            "output: (64, 1024)\n",
            "state: (64, 1024)\n",
            "output: (64, 1024)\n",
            "state: (64, 1024)\n",
            "output: (64, 1024)\n",
            "state: (64, 1024)\n",
            "output: (64, 1024)\n",
            "state: (64, 1024)\n",
            "output: (64, 1024)\n",
            "state: (64, 1024)\n",
            "output: (64, 1024)\n",
            "state: (64, 1024)\n",
            "output: (64, 1024)\n",
            "state: (64, 1024)\n",
            "output: (64, 1024)\n",
            "state: (64, 1024)\n",
            "output: (64, 1024)\n",
            "state: (64, 1024)\n",
            "output: (64, 1024)\n",
            "state: (64, 1024)\n",
            "output: (64, 1024)\n",
            "state: (64, 1024)\n",
            "output: (64, 1024)\n",
            "state: (64, 1024)\n",
            "output: (64, 1024)\n",
            "state: (64, 1024)\n",
            "output: (64, 1024)\n",
            "state: (64, 1024)\n",
            "output: (64, 1024)\n",
            "state: (64, 1024)\n",
            "output: (64, 1024)\n",
            "state: (64, 1024)\n",
            "output: (64, 1024)\n",
            "state: (64, 1024)\n",
            "output: (64, 1024)\n",
            "state: (64, 1024)\n",
            "output: (64, 1024)\n",
            "state: (64, 1024)\n",
            "output: (64, 1024)\n",
            "state: (64, 1024)\n",
            "output: (64, 1024)\n",
            "state: (64, 1024)\n",
            "output: (64, 1024)\n",
            "state: (64, 1024)\n",
            "output: (64, 1024)\n",
            "state: (64, 1024)\n",
            "output: (64, 1024)\n",
            "state: (64, 1024)\n",
            "output: (64, 1024)\n",
            "state: (64, 1024)\n",
            "output: (64, 1024)\n",
            "state: (64, 1024)\n",
            "output: (64, 1024)\n",
            "state: (64, 1024)\n",
            "output: (64, 1024)\n",
            "state: (64, 1024)\n",
            "output: (64, 1024)\n",
            "state: (64, 1024)\n",
            "output: (64, 1024)\n",
            "state: (64, 1024)\n",
            "output: (64, 1024)\n",
            "state: (64, 1024)\n",
            "output: (64, 1024)\n",
            "state: (64, 1024)\n",
            "output: (64, 1024)\n",
            "state: (64, 1024)\n",
            "output: (64, 1024)\n",
            "state: (64, 1024)\n",
            "output: (64, 1024)\n",
            "state: (64, 1024)\n",
            "output: (64, 1024)\n",
            "state: (64, 1024)\n",
            "output: (64, 1024)\n",
            "state: (64, 1024)\n",
            "output: (64, 1024)\n",
            "state: (64, 1024)\n",
            "output: (64, 1024)\n",
            "state: (64, 1024)\n",
            "output: (64, 1024)\n",
            "state: (64, 1024)\n",
            "output: (64, 1024)\n",
            "state: (64, 1024)\n",
            "output: (64, 1024)\n",
            "state: (64, 1024)\n",
            "output: (64, 1024)\n",
            "state: (64, 1024)\n",
            "output: (64, 1024)\n",
            "state: (64, 1024)\n",
            "output: (64, 1024)\n",
            "state: (64, 1024)\n",
            "output: (64, 1024)\n",
            "state: (64, 1024)\n",
            "output: (64, 1024)\n",
            "state: (64, 1024)\n",
            "output: (64, 1024)\n",
            "state: (64, 1024)\n",
            "output: (64, 1024)\n",
            "state: (64, 1024)\n",
            "output: (64, 1024)\n",
            "state: (64, 1024)\n",
            "output: (64, 1024)\n",
            "state: (64, 1024)\n",
            "output: (64, 1024)\n",
            "state: (64, 1024)\n",
            "output: (64, 1024)\n",
            "state: (64, 1024)\n",
            "output: (64, 1024)\n",
            "state: (64, 1024)\n",
            "output: (64, 1024)\n",
            "state: (64, 1024)\n",
            "output: (64, 1024)\n",
            "state: (64, 1024)\n",
            "output: (64, 1024)\n",
            "state: (64, 1024)\n",
            "output: (64, 1024)\n",
            "state: (64, 1024)\n",
            "output: (64, 1024)\n",
            "state: (64, 1024)\n",
            "output: (64, 1024)\n",
            "state: (64, 1024)\n",
            "output: (64, 1024)\n",
            "state: (64, 1024)\n",
            "output: (64, 1024)\n",
            "state: (64, 1024)\n",
            "output: (64, 1024)\n",
            "state: (64, 1024)\n",
            "output: (64, 1024)\n",
            "state: (64, 1024)\n",
            "output: (64, 1024)\n",
            "state: (64, 1024)\n",
            "output: (64, 1024)\n",
            "state: (64, 1024)\n",
            "output: (64, 1024)\n",
            "state: (64, 1024)\n",
            "output: (64, 1024)\n",
            "state: (64, 1024)\n",
            "output: (64, 1024)\n",
            "state: (64, 1024)\n",
            "output: (64, 1024)\n",
            "state: (64, 1024)\n",
            "output: (64, 1024)\n",
            "state: (64, 1024)\n",
            "output: (64, 1024)\n",
            "state: (64, 1024)\n",
            "output: (64, 1024)\n",
            "state: (64, 1024)\n",
            "output: (64, 1024)\n",
            "state: (64, 1024)\n",
            "output: (64, 1024)\n",
            "state: (64, 1024)\n",
            "output: (64, 1024)\n",
            "state: (64, 1024)\n",
            "output: (64, 1024)\n",
            "state: (64, 1024)\n",
            "output: (64, 1024)\n",
            "state: (64, 1024)\n",
            "output: (64, 1024)\n",
            "state: (64, 1024)\n",
            "output: (64, 1024)\n",
            "state: (64, 1024)\n",
            "output: (64, 1024)\n",
            "Epoch 1 Batch 100 Loss 1.4084\n",
            "state: (64, 1024)\n",
            "output: (64, 1024)\n",
            "state: (64, 1024)\n",
            "output: (64, 1024)\n",
            "state: (64, 1024)\n",
            "output: (64, 1024)\n",
            "state: (64, 1024)\n",
            "output: (64, 1024)\n",
            "state: (64, 1024)\n",
            "output: (64, 1024)\n",
            "state: (64, 1024)\n",
            "output: (64, 1024)\n",
            "state: (64, 1024)\n",
            "output: (64, 1024)\n",
            "state: (64, 1024)\n",
            "output: (64, 1024)\n",
            "state: (64, 1024)\n",
            "output: (64, 1024)\n",
            "state: (64, 1024)\n",
            "output: (64, 1024)\n",
            "state: (64, 1024)\n",
            "output: (64, 1024)\n",
            "state: (64, 1024)\n",
            "output: (64, 1024)\n",
            "state: (64, 1024)\n",
            "output: (64, 1024)\n",
            "state: (64, 1024)\n",
            "output: (64, 1024)\n",
            "state: (64, 1024)\n",
            "output: (64, 1024)\n",
            "state: (64, 1024)\n",
            "output: (64, 1024)\n",
            "state: (64, 1024)\n",
            "output: (64, 1024)\n",
            "state: (64, 1024)\n",
            "output: (64, 1024)\n",
            "state: (64, 1024)\n",
            "output: (64, 1024)\n",
            "state: (64, 1024)\n",
            "output: (64, 1024)\n",
            "state: (64, 1024)\n",
            "output: (64, 1024)\n",
            "state: (64, 1024)\n",
            "output: (64, 1024)\n",
            "state: (64, 1024)\n",
            "output: (64, 1024)\n",
            "state: (64, 1024)\n",
            "output: (64, 1024)\n",
            "state: (64, 1024)\n",
            "output: (64, 1024)\n",
            "state: (64, 1024)\n",
            "output: (64, 1024)\n",
            "state: (64, 1024)\n",
            "output: (64, 1024)\n",
            "state: (64, 1024)\n",
            "output: (64, 1024)\n",
            "state: (64, 1024)\n",
            "output: (64, 1024)\n",
            "state: (64, 1024)\n",
            "output: (64, 1024)\n",
            "state: (64, 1024)\n",
            "output: (64, 1024)\n",
            "state: (64, 1024)\n",
            "output: (64, 1024)\n",
            "state: (64, 1024)\n",
            "output: (64, 1024)\n",
            "state: (64, 1024)\n",
            "output: (64, 1024)\n",
            "state: (64, 1024)\n",
            "output: (64, 1024)\n",
            "state: (64, 1024)\n",
            "output: (64, 1024)\n",
            "state: (64, 1024)\n",
            "output: (64, 1024)\n",
            "state: (64, 1024)\n",
            "output: (64, 1024)\n",
            "state: (64, 1024)\n",
            "output: (64, 1024)\n",
            "state: (64, 1024)\n",
            "output: (64, 1024)\n",
            "state: (64, 1024)\n",
            "output: (64, 1024)\n",
            "state: (64, 1024)\n",
            "output: (64, 1024)\n",
            "state: (64, 1024)\n",
            "output: (64, 1024)\n",
            "state: (64, 1024)\n",
            "output: (64, 1024)\n",
            "state: (64, 1024)\n",
            "output: (64, 1024)\n",
            "state: (64, 1024)\n",
            "output: (64, 1024)\n",
            "Epoch 1 Loss 1.3257\n",
            "Time taken for 1 epoch 68.53429985046387 sec\n",
            "\n"
          ]
        }
      ],
      "source": [
        "EPOCHS = 1\n",
        "\n",
        "#GPU 설정\n",
        "# os.environ[\"CUDA_VISIBLE_DEVICES\"]=\"0\"\n",
        "\n",
        "for epoch in range(EPOCHS):\n",
        "    start = time.time()\n",
        "    \n",
        "    hidden = encoder.initialize_hidden_state()\n",
        "    total_loss = 0\n",
        "    \n",
        "    for (batch, (inp, targ)) in enumerate(dataset):\n",
        "        loss = 0\n",
        "        \n",
        "        with tf.GradientTape() as tape:\n",
        "            enc_output, enc_hidden = encoder(inp, hidden)\n",
        "            \n",
        "            dec_hidden = enc_hidden\n",
        "            \n",
        "            dec_input = tf.expand_dims([targ_lang.word2idx['<start>']] * BATCH_SIZE, 1)\n",
        "            \n",
        "            # Teacher forcing - feeding the target as the next input\n",
        "            for t in range(1, targ.shape[1]):\n",
        "                # passing enc_output to the decoder\n",
        "                predictions, dec_hidden, _ = decoder(dec_input, dec_hidden, enc_output)\n",
        "                \n",
        "                loss += loss_function(targ[:, t], predictions)\n",
        "                \n",
        "                # using teacher forcing\n",
        "                dec_input = tf.expand_dims(targ[:, t], 1)\n",
        "        \n",
        "        batch_loss = (loss / int(targ.shape[1]))\n",
        "        \n",
        "        total_loss += batch_loss\n",
        "        \n",
        "        variables = encoder.variables + decoder.variables\n",
        "        \n",
        "        gradients = tape.gradient(loss, variables)\n",
        "        \n",
        "        optimizer.apply_gradients(zip(gradients, variables))\n",
        "        \n",
        "        if batch % 100 == 0:\n",
        "            print('Epoch {} Batch {} Loss {:.4f}'.format(epoch + 1,\n",
        "                                                         batch,\n",
        "                                                         batch_loss.numpy()))\n",
        "    # saving (checkpoint) the model every 2 epochs\n",
        "    if (epoch + 1) % 2 == 0:\n",
        "          checkpoint.save(file_prefix = checkpoint_prefix)\n",
        "    \n",
        "    print('Epoch {} Loss {:.4f}'.format(epoch + 1,\n",
        "                                        total_loss / N_BATCH))\n",
        "    print('Time taken for 1 epoch {} sec\\n'.format(time.time() - start))"
      ]
    },
    {
      "cell_type": "markdown",
      "metadata": {
        "id": "mU3Ce8M6I3rz"
      },
      "source": [
        "* The evaluate function is similar to the training loop, except we don't use *teacher forcing* here. The input to the decoder at each time step is its previous predictions along with the hidden state and the encoder output.\n",
        "* Stop predicting when the model predicts the *end token*.\n",
        "* And store the *attention weights for every time step*.\n",
        "\n",
        "Note: The encoder output is calculated only once for one input."
      ]
    },
    {
      "cell_type": "code",
      "execution_count": 17,
      "metadata": {
        "id": "EbQpyYs13jF_"
      },
      "outputs": [],
      "source": [
        "def evaluate(sentence, encoder, decoder, inp_lang, targ_lang, max_length_inp, max_length_targ):\n",
        "    attention_plot = np.zeros((max_length_targ, max_length_inp))\n",
        "    \n",
        "    sentence = preprocess_sentence(sentence)\n",
        "\n",
        "    inputs = [inp_lang.word2idx[i] for i in sentence.split(' ')]\n",
        "    inputs = tf.keras.preprocessing.sequence.pad_sequences([inputs], maxlen=max_length_inp, padding='post')\n",
        "    inputs = tf.convert_to_tensor(inputs)\n",
        "    \n",
        "    result = ''\n",
        "\n",
        "    hidden = [tf.zeros((1, units))]\n",
        "    enc_out, enc_hidden = encoder(inputs, hidden)\n",
        "\n",
        "    dec_hidden = enc_hidden\n",
        "    dec_input = tf.expand_dims([targ_lang.word2idx['<start>']], 0)\n",
        "\n",
        "    for t in range(max_length_targ):\n",
        "        predictions, dec_hidden, attention_weights = decoder(dec_input, dec_hidden, enc_out)\n",
        "        \n",
        "        # storing the attention weigths to plot later on\n",
        "        attention_weights = tf.reshape(attention_weights, (-1, ))\n",
        "        attention_plot[t] = attention_weights.numpy()\n",
        "\n",
        "        predicted_id = tf.argmax(predictions[0]).numpy()\n",
        "\n",
        "        result += targ_lang.idx2word[predicted_id] + ' '\n",
        "\n",
        "        if targ_lang.idx2word[predicted_id] == '<end>':\n",
        "            return result, sentence, attention_plot\n",
        "        \n",
        "        # the predicted ID is fed back into the model\n",
        "        dec_input = tf.expand_dims([predicted_id], 0)\n",
        "\n",
        "    return result, sentence, attention_plot"
      ]
    },
    {
      "cell_type": "code",
      "execution_count": 18,
      "metadata": {
        "id": "s5hQWlbN3jGF"
      },
      "outputs": [],
      "source": [
        "# function for plotting the attention weights\n",
        "def plot_attention(attention, sentence, predicted_sentence):\n",
        "    fig = plt.figure(figsize=(10,10))\n",
        "    ax = fig.add_subplot(1, 1, 1)\n",
        "    ax.matshow(attention, cmap='viridis')\n",
        "    \n",
        "    fontdict = {'fontsize': 14}\n",
        "    \n",
        "    ax.set_xticklabels([''] + sentence, fontdict=fontdict, rotation=90)\n",
        "    ax.set_yticklabels([''] + predicted_sentence, fontdict=fontdict)\n",
        "\n",
        "    plt.show()"
      ]
    },
    {
      "cell_type": "code",
      "execution_count": 19,
      "metadata": {
        "id": "sl9zUHzg3jGI"
      },
      "outputs": [],
      "source": [
        "def translate(sentence, encoder, decoder, inp_lang, targ_lang, max_length_inp, max_length_targ):\n",
        "    result, sentence, attention_plot = evaluate(sentence, encoder, decoder, inp_lang, targ_lang, max_length_inp, max_length_targ)\n",
        "        \n",
        "    print('Input: {}'.format(sentence))\n",
        "    print('Predicted translation: {}'.format(result))\n",
        "    \n",
        "    attention_plot = attention_plot[:len(result.split(' ')), :len(sentence.split(' '))]\n",
        "    plot_attention(attention_plot, sentence.split(' '), result.split(' '))"
      ]
    },
    {
      "cell_type": "markdown",
      "metadata": {
        "id": "n250XbnjOaqP"
      },
      "source": [
        "## Restore the latest checkpoint and test"
      ]
    },
    {
      "cell_type": "code",
      "source": [
        "checkpoint_dir"
      ],
      "metadata": {
        "colab": {
          "base_uri": "https://localhost:8080/",
          "height": 35
        },
        "id": "isaUEINNh2MQ",
        "outputId": "018f1569-59ac-4dcf-bc98-4f248bf6b4c3"
      },
      "execution_count": 20,
      "outputs": [
        {
          "output_type": "execute_result",
          "data": {
            "application/vnd.google.colaboratory.intrinsic+json": {
              "type": "string"
            },
            "text/plain": [
              "'./data_out/training_checkpoints'"
            ]
          },
          "metadata": {},
          "execution_count": 20
        }
      ]
    },
    {
      "cell_type": "code",
      "execution_count": 21,
      "metadata": {
        "id": "UJpT9D5_OgP6",
        "scrolled": false,
        "colab": {
          "base_uri": "https://localhost:8080/"
        },
        "outputId": "a5b98829-e894-4260-d78c-b14817daa508"
      },
      "outputs": [
        {
          "output_type": "execute_result",
          "data": {
            "text/plain": [
              "<tensorflow.python.training.tracking.util.InitializationOnlyStatus at 0x7f4ed6f02250>"
            ]
          },
          "metadata": {},
          "execution_count": 21
        }
      ],
      "source": [
        "# restoring the latest checkpoint in checkpoint_dir\n",
        "checkpoint.restore(tf.train.latest_checkpoint(checkpoint_dir))"
      ]
    },
    {
      "cell_type": "code",
      "execution_count": 22,
      "metadata": {
        "id": "WrAM0FDomq3E",
        "colab": {
          "base_uri": "https://localhost:8080/",
          "height": 611
        },
        "outputId": "260adb82-a210-49b5-fd6e-5f22e4efda8a"
      },
      "outputs": [
        {
          "output_type": "stream",
          "name": "stdout",
          "text": [
            "state: (1, 1024)\n",
            "output: (1, 1024)\n",
            "Input: <start> 뭐라도 배워볼까 . <end>\n",
            "Predicted translation: 잘 . <end> \n"
          ]
        },
        {
          "output_type": "display_data",
          "data": {
            "image/png": "[encoded data removed]",
            "text/plain": [
              "<Figure size 720x720 with 1 Axes>"
            ]
          },
          "metadata": {
            "needs_background": "light"
          }
        }
      ],
      "source": [
        "translate('뭐라도 배워볼까.', encoder, decoder, inp_lang, targ_lang, max_length_inp, max_length_targ)"
      ]
    },
    {
      "cell_type": "markdown",
      "metadata": {
        "id": "HoHHzJyI8LfN"
      },
      "source": [
        "## 한글 폰트가 깨질 때\n",
        "\n",
        "https://financedata.github.io/posts/matplotlib-hangul-for-ubuntu-linux.html"
      ]
    },
    {
      "cell_type": "code",
      "execution_count": 24,
      "metadata": {
        "id": "zhbxtpg58LfN",
        "colab": {
          "base_uri": "https://localhost:8080/"
        },
        "outputId": "7497f084-6ce5-4cd7-d3bc-b258ec76e391"
      },
      "outputs": [
        {
          "output_type": "stream",
          "name": "stdout",
          "text": [
            "Linux-5.4.144+-x86_64-with-Ubuntu-18.04-bionic\n",
            "sys.version_info(major=3, minor=7, micro=12, releaselevel='final', serial=0)\n",
            "버전:  3.2.2\n",
            "설치위치:  /usr/local/lib/python3.7/dist-packages/matplotlib/__init__.py\n",
            "설정:  /root/.config/matplotlib\n",
            "캐시:  /root/.cache/matplotlib\n"
          ]
        }
      ],
      "source": [
        "#실행중인 운영체제 확인\n",
        "\n",
        "import platform\n",
        "print(platform.platform())\n",
        "\n",
        "# 파이썬 버전\n",
        "import sys\n",
        "print(sys.version_info)\n",
        "\n",
        "# matplotlib 주요 설치 정보\n",
        "\n",
        "import matplotlib\n",
        "\n",
        "print ('버전: ', matplotlib.__version__)\n",
        "print ('설치위치: ', matplotlib.__file__)\n",
        "print ('설정: ', matplotlib.get_configdir())\n",
        "print ('캐시: ', matplotlib.get_cachedir())"
      ]
    },
    {
      "cell_type": "markdown",
      "metadata": {
        "id": "BINEYtdw8LfO"
      },
      "source": [
        "# 우분투에 폰트는 /usr/share/fonts/ 디렉토리에 있다."
      ]
    },
    {
      "cell_type": "code",
      "execution_count": 25,
      "metadata": {
        "id": "FqO1ZvUI8LfO",
        "colab": {
          "base_uri": "https://localhost:8080/"
        },
        "outputId": "1ca3bb33-b337-468c-d789-ab4557de2016"
      },
      "outputs": [
        {
          "output_type": "stream",
          "name": "stdout",
          "text": [
            "total 4\n",
            "drwxr-xr-x 1 root root 4096 Jan 24 23:56 \u001b[0m\u001b[01;34mtruetype\u001b[0m/\n"
          ]
        }
      ],
      "source": [
        "ls -l /usr/share/fonts/"
      ]
    },
    {
      "cell_type": "code",
      "execution_count": 26,
      "metadata": {
        "id": "Pmel9AMn8LfO",
        "colab": {
          "base_uri": "https://localhost:8080/"
        },
        "outputId": "cd1d6f7d-c786-46a5-9a06-50e988c1f81d"
      },
      "outputs": [
        {
          "output_type": "stream",
          "name": "stdout",
          "text": [
            "total 12\n",
            "drwxr-xr-x 2 root root 4096 Jan  7 14:14 \u001b[0m\u001b[01;34mhumor-sans\u001b[0m/\n",
            "drwxr-xr-x 2 root root 4096 Jan  7 14:14 \u001b[01;34mliberation\u001b[0m/\n",
            "drwxr-xr-x 2 root root 4096 Jan 24 23:56 \u001b[01;34mnanum\u001b[0m/\n"
          ]
        }
      ],
      "source": [
        "ls -l /usr/share/fonts/truetype/"
      ]
    },
    {
      "cell_type": "code",
      "execution_count": 27,
      "metadata": {
        "id": "Y_4lV0iq8LfO"
      },
      "outputs": [],
      "source": [
        "# 나눔 글꼴 설치\n",
        "# apt-get 명령으로 나눔글꼴(fonts-nanum)을 설치하고, fc-cache 명령으로 폰트 캐시 삭제\n",
        "\n",
        "# $ sudo apt-get install fonts-nanum*\n",
        "# $ sudo fc-cache -fv\n",
        "# 만일 다른 ttf 폰트를 가져왔다면 다음과 같이 복사하고, fc-cache 명령으로 폰트 캐시 삭제\n",
        "\n",
        "# $ sudo cp new_font.ttf /usr/share/fonts/\n",
        "# $ sudo fc-cache -fv\n",
        "# matplotlib 나눔 글꼴을 추가\n",
        "# 나눔 글꼴을 matplotlib 에 복사하고, matplotlib의 폰트 캐시를 삭제\n",
        "\n",
        "# $ sudo cp /usr/share/fonts/truetype/nanum/Nanum* /usr/local/lib/python3.4/dist-packages/matplotlib/mpl-data/fonts/ttf/\n",
        "# $ rm -rf /home/ubuntu/.cache/matplotlib/*"
      ]
    },
    {
      "cell_type": "markdown",
      "metadata": {
        "id": "bRrMxyue8LfO"
      },
      "source": [
        "# 설치확인"
      ]
    },
    {
      "cell_type": "code",
      "execution_count": 28,
      "metadata": {
        "id": "Om-D84Nd8LfP"
      },
      "outputs": [],
      "source": [
        "# ls -l /usr/share/fonts/truetype/nanum/"
      ]
    },
    {
      "cell_type": "code",
      "execution_count": 29,
      "metadata": {
        "id": "r3juCPmI8LfP"
      },
      "outputs": [],
      "source": [
        "# # matplotlib.font_manager.fontManager.ttflist\n",
        "\n",
        "# import matplotlib\n",
        "# import matplotlib.font_manager\n",
        "\n",
        "# [f.fname for f in matplotlib.font_manager.fontManager.ttflist]\n",
        "# [(f.name, f.fname) for f in matplotlib.font_manager.fontManager.ttflist if 'Nanum' in f.name]"
      ]
    },
    {
      "cell_type": "code",
      "execution_count": 30,
      "metadata": {
        "id": "NIngLa3C8LfP"
      },
      "outputs": [],
      "source": [
        "# from matplotlib import font_manager, rc\n",
        "\n",
        "# font_fname = '/usr/share/fonts/truetype/nanum/NanumGothic.ttf'\n",
        "# font_name = font_manager.FontProperties(fname=font_fname).get_name()\n",
        "\n",
        "# rc('font', family=font_name)\n",
        "# print(font_name)"
      ]
    }
  ],
  "metadata": {
    "accelerator": "GPU",
    "colab": {
      "collapsed_sections": [],
      "name": "[2_X코드반영]_lab_12_7_bonus_seq_to_seq_with_attention_chatbot_keras_eager.ipynb",
      "provenance": []
    },
    "kernelspec": {
      "display_name": "Python 3",
      "language": "python",
      "name": "python3"
    },
    "language_info": {
      "codemirror_mode": {
        "name": "ipython",
        "version": 3
      },
      "file_extension": ".py",
      "mimetype": "text/x-python",
      "name": "python",
      "nbconvert_exporter": "python",
      "pygments_lexer": "ipython3",
      "version": "3.7.6"
    }
  },
  "nbformat": 4,
  "nbformat_minor": 0
}