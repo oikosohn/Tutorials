{
  "nbformat": 4,
  "nbformat_minor": 0,
  "metadata": {
    "kernelspec": {
      "display_name": "Python 3",
      "language": "python",
      "name": "python3"
    },
    "language_info": {
      "codemirror_mode": {
        "name": "ipython",
        "version": 3
      },
      "file_extension": ".py",
      "mimetype": "text/x-python",
      "name": "python",
      "nbconvert_exporter": "python",
      "pygments_lexer": "ipython3",
      "version": "3.8.3"
    },
    "toc": {
      "base_numbering": 1,
      "nav_menu": {},
      "number_sections": true,
      "sideBar": true,
      "skip_h1_title": false,
      "title_cell": "Table of Contents",
      "title_sidebar": "Contents",
      "toc_cell": false,
      "toc_position": {},
      "toc_section_display": true,
      "toc_window_display": false
    },
    "colab": {
      "name": "2-RDD Actions.ipynb",
      "provenance": [],
      "collapsed_sections": []
    }
  },
  "cells": [
    {
      "cell_type": "code",
      "metadata": {
        "id": "Nyf1OeDQ387z"
      },
      "source": [
        "!apt-get install openjdk-8-jdk-headless -qq > /dev/null\n",
        "!wget -q https://downloads.apache.org/spark/spark-3.1.1/spark-3.1.1-bin-hadoop3.2.tgz\n",
        "!tar xf spark-3.1.1-bin-hadoop3.2.tgz\n",
        "!pip install -q findspark"
      ],
      "execution_count": 1,
      "outputs": []
    },
    {
      "cell_type": "code",
      "metadata": {
        "colab": {
          "base_uri": "https://localhost:8080/"
        },
        "id": "9n_HL18yHlvo",
        "outputId": "660435e2-81a8-4ad4-c1e1-bbe5a5fd7a5c"
      },
      "source": [
        "# retart after inatall\n",
        "!pip install pyspark"
      ],
      "execution_count": 2,
      "outputs": [
        {
          "output_type": "stream",
          "text": [
            "Collecting pyspark\n",
            "\u001b[?25l  Downloading https://files.pythonhosted.org/packages/45/b0/9d6860891ab14a39d4bddf80ba26ce51c2f9dc4805e5c6978ac0472c120a/pyspark-3.1.1.tar.gz (212.3MB)\n",
            "\u001b[K     |████████████████████████████████| 212.3MB 66kB/s \n",
            "\u001b[?25hCollecting py4j==0.10.9\n",
            "\u001b[?25l  Downloading https://files.pythonhosted.org/packages/9e/b6/6a4fb90cd235dc8e265a6a2067f2a2c99f0d91787f06aca4bcf7c23f3f80/py4j-0.10.9-py2.py3-none-any.whl (198kB)\n",
            "\u001b[K     |████████████████████████████████| 204kB 36.1MB/s \n",
            "\u001b[?25hBuilding wheels for collected packages: pyspark\n",
            "  Building wheel for pyspark (setup.py) ... \u001b[?25l\u001b[?25hdone\n",
            "  Created wheel for pyspark: filename=pyspark-3.1.1-py2.py3-none-any.whl size=212767604 sha256=c7d7d8a0422275e0e82e60df113fa89891e55629e4a1922a216b278d9de7f8fb\n",
            "  Stored in directory: /root/.cache/pip/wheels/0b/90/c0/01de724414ef122bd05f056541fb6a0ecf47c7ca655f8b3c0f\n",
            "Successfully built pyspark\n",
            "Installing collected packages: py4j, pyspark\n",
            "Successfully installed py4j-0.10.9 pyspark-3.1.1\n"
          ],
          "name": "stdout"
        }
      ]
    },
    {
      "cell_type": "markdown",
      "metadata": {
        "id": "IGxM-ZVAM8Yn"
      },
      "source": [
        "# SparkContxt 생성"
      ]
    },
    {
      "cell_type": "markdown",
      "metadata": {
        "id": "6eohOGNMM8Yt"
      },
      "source": [
        "SparkContext\n",
        "- Main entry point for spark functionality\n",
        "- A SparkContext represents the connection to a spark cluster, and can used to create RDDs, accumulators and broadcast variables on that cluster.\n",
        "- Only one SparkContext may be active per JVM.\n",
        "- You must stop() the active SparkContext before creating a new one."
      ]
    },
    {
      "cell_type": "code",
      "metadata": {
        "id": "Sf8sxQktM8Yu"
      },
      "source": [
        "from pyspark import SparkContext, SparkConf"
      ],
      "execution_count": 3,
      "outputs": []
    },
    {
      "cell_type": "markdown",
      "metadata": {
        "id": "VIEuNOdtM8Yv"
      },
      "source": [
        "**First way to create SparkContext**"
      ]
    },
    {
      "cell_type": "code",
      "metadata": {
        "id": "s9GblhgKM8Yw"
      },
      "source": [
        "# 스파크 설정\n",
        "config = SparkConf().setAppName('Demo').setMaster('local')\n",
        "\n",
        "# 스파크 문맥 생성\n",
        "sc = SparkContext(conf=config)"
      ],
      "execution_count": 4,
      "outputs": []
    },
    {
      "cell_type": "code",
      "metadata": {
        "colab": {
          "base_uri": "https://localhost:8080/"
        },
        "id": "TaBene4OM8Yx",
        "outputId": "c936984e-0c1e-4832-a271-65d646f79f6c"
      },
      "source": [
        "# 스파크 문맥 설정 보기\n",
        "sc.getConf().getAll()"
      ],
      "execution_count": 5,
      "outputs": [
        {
          "output_type": "execute_result",
          "data": {
            "text/plain": [
              "[('spark.master', 'local'),\n",
              " ('spark.app.id', 'local-1620565123905'),\n",
              " ('spark.driver.port', '38337'),\n",
              " ('spark.rdd.compress', 'True'),\n",
              " ('spark.serializer.objectStreamReset', '100'),\n",
              " ('spark.submit.pyFiles', ''),\n",
              " ('spark.executor.id', 'driver'),\n",
              " ('spark.app.startTime', '1620565122267'),\n",
              " ('spark.submit.deployMode', 'client'),\n",
              " ('spark.driver.host', '92bef1ff7a89'),\n",
              " ('spark.ui.showConsoleProgress', 'true'),\n",
              " ('spark.app.name', 'Demo')]"
            ]
          },
          "metadata": {
            "tags": []
          },
          "execution_count": 5
        }
      ]
    },
    {
      "cell_type": "code",
      "metadata": {
        "id": "XqdJDZ-hM8Yy"
      },
      "source": [
        "sc.stop()"
      ],
      "execution_count": 6,
      "outputs": []
    },
    {
      "cell_type": "markdown",
      "metadata": {
        "id": "6hZLW4OyM8Yz"
      },
      "source": [
        "**Second way, Create a SparkContext that loads settings**"
      ]
    },
    {
      "cell_type": "code",
      "metadata": {
        "id": "OEdpDj6SM8Y0"
      },
      "source": [
        "sc = SparkContext()"
      ],
      "execution_count": 7,
      "outputs": []
    },
    {
      "cell_type": "code",
      "metadata": {
        "colab": {
          "base_uri": "https://localhost:8080/"
        },
        "id": "mJyiVRGzM8Y0",
        "outputId": "ba7c7155-6f64-4fa5-fa28-e228e50a3a05"
      },
      "source": [
        "sc.getConf().getAll()"
      ],
      "execution_count": 8,
      "outputs": [
        {
          "output_type": "execute_result",
          "data": {
            "text/plain": [
              "[('spark.master', 'local'),\n",
              " ('spark.app.id', 'local-1620565125439'),\n",
              " ('spark.app.startTime', '1620565125271'),\n",
              " ('spark.driver.port', '46155'),\n",
              " ('spark.rdd.compress', 'True'),\n",
              " ('spark.serializer.objectStreamReset', '100'),\n",
              " ('spark.submit.pyFiles', ''),\n",
              " ('spark.executor.id', 'driver'),\n",
              " ('spark.submit.deployMode', 'client'),\n",
              " ('spark.driver.host', '92bef1ff7a89'),\n",
              " ('spark.ui.showConsoleProgress', 'true'),\n",
              " ('spark.app.name', 'Demo')]"
            ]
          },
          "metadata": {
            "tags": []
          },
          "execution_count": 8
        }
      ]
    },
    {
      "cell_type": "code",
      "metadata": {
        "id": "h6aMKxUPM8Y1"
      },
      "source": [
        "sc.stop()"
      ],
      "execution_count": 9,
      "outputs": []
    },
    {
      "cell_type": "markdown",
      "metadata": {
        "id": "Hu1ec1aQM8Y1"
      },
      "source": [
        "**Third way to combining both**"
      ]
    },
    {
      "cell_type": "code",
      "metadata": {
        "id": "GDMi-49AM8Y2"
      },
      "source": [
        "sc = SparkContext('local','First App')"
      ],
      "execution_count": 10,
      "outputs": []
    },
    {
      "cell_type": "code",
      "metadata": {
        "colab": {
          "base_uri": "https://localhost:8080/"
        },
        "id": "M4Jog5q-M8Y2",
        "outputId": "8c03c80f-e9d6-4a79-a6d9-6ee4d56801f0"
      },
      "source": [
        "sc.getConf().getAll()"
      ],
      "execution_count": 11,
      "outputs": [
        {
          "output_type": "execute_result",
          "data": {
            "text/plain": [
              "[('spark.master', 'local'),\n",
              " ('spark.rdd.compress', 'True'),\n",
              " ('spark.app.startTime', '1620565126034'),\n",
              " ('spark.driver.port', '33505'),\n",
              " ('spark.serializer.objectStreamReset', '100'),\n",
              " ('spark.submit.pyFiles', ''),\n",
              " ('spark.executor.id', 'driver'),\n",
              " ('spark.submit.deployMode', 'client'),\n",
              " ('spark.app.name', 'First App'),\n",
              " ('spark.driver.host', '92bef1ff7a89'),\n",
              " ('spark.ui.showConsoleProgress', 'true'),\n",
              " ('spark.app.id', 'local-1620565126183')]"
            ]
          },
          "metadata": {
            "tags": []
          },
          "execution_count": 11
        }
      ]
    },
    {
      "cell_type": "markdown",
      "metadata": {
        "id": "ioJPIMLrM8Y2"
      },
      "source": [
        "**RDD**\n",
        "- Transfomation : 새로운 RDD를 생성하기 위한 DAG 생성한다.\n",
        "    - narrow transformation과 wide transformation으로 나뉜다.\n",
        "- Action : Action을 실행하면 Transformation이 실행되면 RDD가 생성되며(Lazy execution) 값을 반환한다."
      ]
    },
    {
      "cell_type": "markdown",
      "metadata": {
        "id": "AihvrqZ0M8Y3"
      },
      "source": [
        "# RDD 생성과 기초 Action들"
      ]
    },
    {
      "cell_type": "code",
      "metadata": {
        "id": "zjxIPOFAM8Y3"
      },
      "source": [
        "names = sc.parallelize(['Adam','Cray','Shaun','Brain','Mark','Christ','Shail','Satya','Mark','Norby','Frans','Mark','Bill'])"
      ],
      "execution_count": 12,
      "outputs": []
    },
    {
      "cell_type": "code",
      "metadata": {
        "colab": {
          "base_uri": "https://localhost:8080/"
        },
        "id": "KUi1hniuM8Y3",
        "outputId": "68250a5c-7ca4-4a2e-b714-e041357f4913"
      },
      "source": [
        "type(names)"
      ],
      "execution_count": 13,
      "outputs": [
        {
          "output_type": "execute_result",
          "data": {
            "text/plain": [
              "pyspark.rdd.RDD"
            ]
          },
          "metadata": {
            "tags": []
          },
          "execution_count": 13
        }
      ]
    },
    {
      "cell_type": "code",
      "metadata": {
        "colab": {
          "base_uri": "https://localhost:8080/"
        },
        "id": "XgtGRel7M8Y3",
        "outputId": "1bc00d5e-17ca-49a8-d4f5-98ca1c6b32be"
      },
      "source": [
        "names.collect()"
      ],
      "execution_count": 14,
      "outputs": [
        {
          "output_type": "execute_result",
          "data": {
            "text/plain": [
              "['Adam',\n",
              " 'Cray',\n",
              " 'Shaun',\n",
              " 'Brain',\n",
              " 'Mark',\n",
              " 'Christ',\n",
              " 'Shail',\n",
              " 'Satya',\n",
              " 'Mark',\n",
              " 'Norby',\n",
              " 'Frans',\n",
              " 'Mark',\n",
              " 'Bill']"
            ]
          },
          "metadata": {
            "tags": []
          },
          "execution_count": 14
        }
      ]
    },
    {
      "cell_type": "code",
      "metadata": {
        "colab": {
          "base_uri": "https://localhost:8080/"
        },
        "id": "EaUfk1y5M8Y4",
        "outputId": "3bf06dc1-4c4c-437c-824c-84385aa821f8"
      },
      "source": [
        "names.countByValue()"
      ],
      "execution_count": 15,
      "outputs": [
        {
          "output_type": "execute_result",
          "data": {
            "text/plain": [
              "defaultdict(int,\n",
              "            {'Adam': 1,\n",
              "             'Bill': 1,\n",
              "             'Brain': 1,\n",
              "             'Christ': 1,\n",
              "             'Cray': 1,\n",
              "             'Frans': 1,\n",
              "             'Mark': 3,\n",
              "             'Norby': 1,\n",
              "             'Satya': 1,\n",
              "             'Shail': 1,\n",
              "             'Shaun': 1})"
            ]
          },
          "metadata": {
            "tags": []
          },
          "execution_count": 15
        }
      ]
    },
    {
      "cell_type": "code",
      "metadata": {
        "id": "TZiSwzH3M8Y4"
      },
      "source": [
        "def f(x): print(x)\n",
        "\n",
        "a = sc.parallelize([1,2,3,4,5]).foreach(lambda x: print(x))"
      ],
      "execution_count": 16,
      "outputs": []
    },
    {
      "cell_type": "code",
      "metadata": {
        "colab": {
          "base_uri": "https://localhost:8080/"
        },
        "id": "y5kTCAl0M8Y4",
        "outputId": "50163087-baac-4328-89c9-642936f466c5"
      },
      "source": [
        "type(a)"
      ],
      "execution_count": 17,
      "outputs": [
        {
          "output_type": "execute_result",
          "data": {
            "text/plain": [
              "NoneType"
            ]
          },
          "metadata": {
            "tags": []
          },
          "execution_count": 17
        }
      ]
    },
    {
      "cell_type": "code",
      "metadata": {
        "colab": {
          "base_uri": "https://localhost:8080/"
        },
        "id": "gvBj6ZykM8Y5",
        "outputId": "2f2f252c-cdec-47f9-c697-b46e988180ad"
      },
      "source": [
        "names.take(5)"
      ],
      "execution_count": 18,
      "outputs": [
        {
          "output_type": "execute_result",
          "data": {
            "text/plain": [
              "['Adam', 'Cray', 'Shaun', 'Brain', 'Mark']"
            ]
          },
          "metadata": {
            "tags": []
          },
          "execution_count": 18
        }
      ]
    },
    {
      "cell_type": "code",
      "metadata": {
        "id": "CXoncwwWNlVx"
      },
      "source": [
        "# employees = sc.textFile('employee.txt')"
      ],
      "execution_count": 21,
      "outputs": []
    },
    {
      "cell_type": "code",
      "metadata": {
        "colab": {
          "base_uri": "https://localhost:8080/"
        },
        "id": "n_sIb2KeNq66",
        "outputId": "0e754e2b-36f0-4e89-a16b-4dfbbc962fef"
      },
      "source": [
        "# type(employees)"
      ],
      "execution_count": 22,
      "outputs": [
        {
          "output_type": "execute_result",
          "data": {
            "text/plain": [
              "pyspark.rdd.RDD"
            ]
          },
          "metadata": {
            "tags": []
          },
          "execution_count": 22
        }
      ]
    },
    {
      "cell_type": "code",
      "metadata": {
        "colab": {
          "base_uri": "https://localhost:8080/",
          "height": 35
        },
        "id": "ZyCXtOgeNsTp",
        "outputId": "dd7d00df-47e5-4778-dcd3-0c7af5a5e70b"
      },
      "source": [
        "names.first()"
      ],
      "execution_count": 25,
      "outputs": [
        {
          "output_type": "execute_result",
          "data": {
            "application/vnd.google.colaboratory.intrinsic+json": {
              "type": "string"
            },
            "text/plain": [
              "'Adam'"
            ]
          },
          "metadata": {
            "tags": []
          },
          "execution_count": 25
        }
      ]
    },
    {
      "cell_type": "code",
      "metadata": {
        "colab": {
          "base_uri": "https://localhost:8080/"
        },
        "id": "K9oHKSlGORjp",
        "outputId": "6795ae21-b13d-4fca-8e18-393a01658f49"
      },
      "source": [
        "names.count()"
      ],
      "execution_count": 26,
      "outputs": [
        {
          "output_type": "execute_result",
          "data": {
            "text/plain": [
              "13"
            ]
          },
          "metadata": {
            "tags": []
          },
          "execution_count": 26
        }
      ]
    },
    {
      "cell_type": "code",
      "metadata": {
        "colab": {
          "base_uri": "https://localhost:8080/"
        },
        "id": "PhKWMeNAOT9T",
        "outputId": "167e9d2a-5b16-4c66-f292-92da2ea4e570"
      },
      "source": [
        "names.top(5)"
      ],
      "execution_count": 27,
      "outputs": [
        {
          "output_type": "execute_result",
          "data": {
            "text/plain": [
              "['Shaun', 'Shail', 'Satya', 'Norby', 'Mark']"
            ]
          },
          "metadata": {
            "tags": []
          },
          "execution_count": 27
        }
      ]
    },
    {
      "cell_type": "code",
      "metadata": {
        "colab": {
          "base_uri": "https://localhost:8080/"
        },
        "id": "8LQUGQJKOUdZ",
        "outputId": "8629d9fc-4673-4313-c423-c49d600441c4"
      },
      "source": [
        "names.top(19)"
      ],
      "execution_count": 28,
      "outputs": [
        {
          "output_type": "execute_result",
          "data": {
            "text/plain": [
              "['Shaun',\n",
              " 'Shail',\n",
              " 'Satya',\n",
              " 'Norby',\n",
              " 'Mark',\n",
              " 'Mark',\n",
              " 'Mark',\n",
              " 'Frans',\n",
              " 'Cray',\n",
              " 'Christ',\n",
              " 'Brain',\n",
              " 'Bill',\n",
              " 'Adam']"
            ]
          },
          "metadata": {
            "tags": []
          },
          "execution_count": 28
        }
      ]
    },
    {
      "cell_type": "code",
      "metadata": {
        "colab": {
          "base_uri": "https://localhost:8080/"
        },
        "id": "2EHqpA5jOXVJ",
        "outputId": "39bc630d-31c9-401c-df9f-e0c069cfd56b"
      },
      "source": [
        "names.distinct().count()"
      ],
      "execution_count": 29,
      "outputs": [
        {
          "output_type": "execute_result",
          "data": {
            "text/plain": [
              "11"
            ]
          },
          "metadata": {
            "tags": []
          },
          "execution_count": 29
        }
      ]
    },
    {
      "cell_type": "code",
      "metadata": {
        "colab": {
          "base_uri": "https://localhost:8080/"
        },
        "id": "Tt8FsXCuNxiZ",
        "outputId": "c6c1c8ad-e40a-435b-83cc-293d733391a1"
      },
      "source": [
        "num = sc.parallelize([5,5,4,3,2,9,2],2)\n",
        "num.collect()"
      ],
      "execution_count": 44,
      "outputs": [
        {
          "output_type": "execute_result",
          "data": {
            "text/plain": [
              "[5, 5, 4, 3, 2, 9, 2]"
            ]
          },
          "metadata": {
            "tags": []
          },
          "execution_count": 44
        }
      ]
    },
    {
      "cell_type": "code",
      "metadata": {
        "colab": {
          "base_uri": "https://localhost:8080/"
        },
        "id": "moEbxGt6ORS5",
        "outputId": "40e9e6de-37f7-4cee-d3a2-ed3a365a2a37"
      },
      "source": [
        "num.countByValue()"
      ],
      "execution_count": 45,
      "outputs": [
        {
          "output_type": "execute_result",
          "data": {
            "text/plain": [
              "defaultdict(int, {2: 2, 3: 1, 4: 1, 5: 2, 9: 1})"
            ]
          },
          "metadata": {
            "tags": []
          },
          "execution_count": 45
        }
      ]
    },
    {
      "cell_type": "code",
      "metadata": {
        "colab": {
          "base_uri": "https://localhost:8080/"
        },
        "id": "m20U-hNzOsMr",
        "outputId": "084937e7-d98b-4d87-9a57-900f024589f5"
      },
      "source": [
        "type(num)"
      ],
      "execution_count": 46,
      "outputs": [
        {
          "output_type": "execute_result",
          "data": {
            "text/plain": [
              "pyspark.rdd.RDD"
            ]
          },
          "metadata": {
            "tags": []
          },
          "execution_count": 46
        }
      ]
    },
    {
      "cell_type": "markdown",
      "metadata": {
        "id": "MQvfLKY1SI7k"
      },
      "source": [
        "## glom()"
      ]
    },
    {
      "cell_type": "code",
      "metadata": {
        "colab": {
          "base_uri": "https://localhost:8080/"
        },
        "id": "j3qVzAOoOuF5",
        "outputId": "f1258474-791e-4a84-95c6-dfb6e7ed3ed0"
      },
      "source": [
        "num.glom().collect()"
      ],
      "execution_count": 47,
      "outputs": [
        {
          "output_type": "execute_result",
          "data": {
            "text/plain": [
              "[[5, 5, 4], [3, 2, 9, 2]]"
            ]
          },
          "metadata": {
            "tags": []
          },
          "execution_count": 47
        }
      ]
    },
    {
      "cell_type": "code",
      "metadata": {
        "colab": {
          "base_uri": "https://localhost:8080/"
        },
        "id": "R49OT7-TOwQp",
        "outputId": "27055cec-7c60-4eaf-8ed6-1c47c621d109"
      },
      "source": [
        "type(num.glom())"
      ],
      "execution_count": 48,
      "outputs": [
        {
          "output_type": "execute_result",
          "data": {
            "text/plain": [
              "pyspark.rdd.PipelinedRDD"
            ]
          },
          "metadata": {
            "tags": []
          },
          "execution_count": 48
        }
      ]
    },
    {
      "cell_type": "code",
      "metadata": {
        "colab": {
          "base_uri": "https://localhost:8080/"
        },
        "id": "X39ULEYePTkp",
        "outputId": "98ab77aa-557f-45cf-e634-84ed42b58aad"
      },
      "source": [
        "num.take(4)"
      ],
      "execution_count": 51,
      "outputs": [
        {
          "output_type": "execute_result",
          "data": {
            "text/plain": [
              "[5, 5, 4, 3]"
            ]
          },
          "metadata": {
            "tags": []
          },
          "execution_count": 51
        }
      ]
    },
    {
      "cell_type": "code",
      "metadata": {
        "colab": {
          "base_uri": "https://localhost:8080/"
        },
        "id": "dueyXeRLOyrq",
        "outputId": "e1108e84-39d2-4a7c-8473-4127ad43606c"
      },
      "source": [
        "num2 = sc.parallelize([5,5,4,3,2,9,2], 6)\n",
        "num2.collect()"
      ],
      "execution_count": 49,
      "outputs": [
        {
          "output_type": "execute_result",
          "data": {
            "text/plain": [
              "[5, 5, 4, 3, 2, 9, 2]"
            ]
          },
          "metadata": {
            "tags": []
          },
          "execution_count": 49
        }
      ]
    },
    {
      "cell_type": "code",
      "metadata": {
        "colab": {
          "base_uri": "https://localhost:8080/"
        },
        "id": "58MDL-XOO8k5",
        "outputId": "0dd7e20c-7012-4020-f72f-3070f1500686"
      },
      "source": [
        "num2.glom().collect()"
      ],
      "execution_count": 50,
      "outputs": [
        {
          "output_type": "execute_result",
          "data": {
            "text/plain": [
              "[[5], [5], [4], [3], [2], [9, 2]]"
            ]
          },
          "metadata": {
            "tags": []
          },
          "execution_count": 50
        }
      ]
    },
    {
      "cell_type": "code",
      "metadata": {
        "colab": {
          "base_uri": "https://localhost:8080/"
        },
        "id": "708nvlRNPFy5",
        "outputId": "95666bef-38db-4a4d-f2e2-c7bcd889eda2"
      },
      "source": [
        "num2.glom().collect()[1:]"
      ],
      "execution_count": 52,
      "outputs": [
        {
          "output_type": "execute_result",
          "data": {
            "text/plain": [
              "[[5], [4], [3], [2], [9, 2]]"
            ]
          },
          "metadata": {
            "tags": []
          },
          "execution_count": 52
        }
      ]
    },
    {
      "cell_type": "code",
      "metadata": {
        "colab": {
          "base_uri": "https://localhost:8080/"
        },
        "id": "DNcNEg_iPbjp",
        "outputId": "1ff986e7-6905-4bf7-d14b-a3f8af128d98"
      },
      "source": [
        "num.max()"
      ],
      "execution_count": 53,
      "outputs": [
        {
          "output_type": "execute_result",
          "data": {
            "text/plain": [
              "9"
            ]
          },
          "metadata": {
            "tags": []
          },
          "execution_count": 53
        }
      ]
    },
    {
      "cell_type": "code",
      "metadata": {
        "colab": {
          "base_uri": "https://localhost:8080/"
        },
        "id": "mLJALTWLPh6p",
        "outputId": "cbef79ff-d6c0-4ee2-b2af-708aa22dd796"
      },
      "source": [
        "num.min()"
      ],
      "execution_count": 54,
      "outputs": [
        {
          "output_type": "execute_result",
          "data": {
            "text/plain": [
              "2"
            ]
          },
          "metadata": {
            "tags": []
          },
          "execution_count": 54
        }
      ]
    },
    {
      "cell_type": "code",
      "metadata": {
        "colab": {
          "base_uri": "https://localhost:8080/"
        },
        "id": "ZX68awkaPlE6",
        "outputId": "0c3613fa-dc90-4a62-cc89-932e0f517797"
      },
      "source": [
        "num.mean()"
      ],
      "execution_count": 55,
      "outputs": [
        {
          "output_type": "execute_result",
          "data": {
            "text/plain": [
              "4.285714285714286"
            ]
          },
          "metadata": {
            "tags": []
          },
          "execution_count": 55
        }
      ]
    },
    {
      "cell_type": "markdown",
      "metadata": {
        "id": "gOfma3gxSLrl"
      },
      "source": [
        "## reduce"
      ]
    },
    {
      "cell_type": "code",
      "metadata": {
        "colab": {
          "base_uri": "https://localhost:8080/"
        },
        "id": "3lKHGT53Sn-p",
        "outputId": "b5b44bcf-5443-4d24-f3e6-a4d8b845b2f8"
      },
      "source": [
        "num.glom().collect()"
      ],
      "execution_count": 70,
      "outputs": [
        {
          "output_type": "execute_result",
          "data": {
            "text/plain": [
              "[[5, 5, 4], [3, 2, 9, 2]]"
            ]
          },
          "metadata": {
            "tags": []
          },
          "execution_count": 70
        }
      ]
    },
    {
      "cell_type": "code",
      "metadata": {
        "colab": {
          "base_uri": "https://localhost:8080/"
        },
        "id": "1uSeqpNhPohJ",
        "outputId": "ebcf008e-62e0-41a2-f121-c1b11682cf1b"
      },
      "source": [
        "num.reduce(lambda a,b:a+b)"
      ],
      "execution_count": 57,
      "outputs": [
        {
          "output_type": "execute_result",
          "data": {
            "text/plain": [
              "30"
            ]
          },
          "metadata": {
            "tags": []
          },
          "execution_count": 57
        }
      ]
    },
    {
      "cell_type": "code",
      "metadata": {
        "colab": {
          "base_uri": "https://localhost:8080/"
        },
        "id": "oiQxJjRCQW9s",
        "outputId": "de5150ba-8e98-4f23-ebf6-213dea35d69a"
      },
      "source": [
        "num.reduce(lambda a,b:a*b)"
      ],
      "execution_count": 58,
      "outputs": [
        {
          "output_type": "execute_result",
          "data": {
            "text/plain": [
              "10800"
            ]
          },
          "metadata": {
            "tags": []
          },
          "execution_count": 58
        }
      ]
    },
    {
      "cell_type": "code",
      "metadata": {
        "colab": {
          "base_uri": "https://localhost:8080/"
        },
        "id": "i6uU8QS3Qb9a",
        "outputId": "3720fa20-9045-413d-afab-924790381a65"
      },
      "source": [
        "# get max\n",
        "num.reduce(lambda x,y: x if x > y else y)"
      ],
      "execution_count": 59,
      "outputs": [
        {
          "output_type": "execute_result",
          "data": {
            "text/plain": [
              "9"
            ]
          },
          "metadata": {
            "tags": []
          },
          "execution_count": 59
        }
      ]
    },
    {
      "cell_type": "code",
      "metadata": {
        "id": "fTocAdPTQhR5"
      },
      "source": [
        "def myfun(a,b):\n",
        "  print(a,b)\n",
        "  print(a*2+b*2)\n",
        "  return a*2 + b*2"
      ],
      "execution_count": 63,
      "outputs": []
    },
    {
      "cell_type": "code",
      "metadata": {
        "colab": {
          "base_uri": "https://localhost:8080/"
        },
        "id": "rJ0b3XoDQnEK",
        "outputId": "b19fdc90-3e6d-4eae-a8bc-77909db89f55"
      },
      "source": [
        "num.reduce(myfun)"
      ],
      "execution_count": 64,
      "outputs": [
        {
          "output_type": "stream",
          "text": [
            "48 80\n",
            "256\n"
          ],
          "name": "stdout"
        },
        {
          "output_type": "execute_result",
          "data": {
            "text/plain": [
              "256"
            ]
          },
          "metadata": {
            "tags": []
          },
          "execution_count": 64
        }
      ]
    },
    {
      "cell_type": "code",
      "metadata": {
        "colab": {
          "base_uri": "https://localhost:8080/"
        },
        "id": "MxLsiat-RiDa",
        "outputId": "1a8b3a7f-11c3-4622-e844-ddd8f93825b0"
      },
      "source": [
        "test = sc.parallelize([1,2],2)\n",
        "test.reduce(myfun)"
      ],
      "execution_count": 69,
      "outputs": [
        {
          "output_type": "stream",
          "text": [
            "1 2\n",
            "6\n"
          ],
          "name": "stdout"
        },
        {
          "output_type": "execute_result",
          "data": {
            "text/plain": [
              "6"
            ]
          },
          "metadata": {
            "tags": []
          },
          "execution_count": 69
        }
      ]
    },
    {
      "cell_type": "code",
      "metadata": {
        "colab": {
          "base_uri": "https://localhost:8080/"
        },
        "id": "Su1ttkXkR3yZ",
        "outputId": "eb234020-cd29-4d53-b1ff-5ddda03c8fce"
      },
      "source": [
        "test2 = sc.parallelize([1,2,3],2)\n",
        "test2.reduce(myfun)"
      ],
      "execution_count": 68,
      "outputs": [
        {
          "output_type": "stream",
          "text": [
            "1 10\n",
            "22\n"
          ],
          "name": "stdout"
        },
        {
          "output_type": "execute_result",
          "data": {
            "text/plain": [
              "22"
            ]
          },
          "metadata": {
            "tags": []
          },
          "execution_count": 68
        }
      ]
    },
    {
      "cell_type": "code",
      "metadata": {
        "colab": {
          "base_uri": "https://localhost:8080/"
        },
        "id": "5hEn5jlhQo95",
        "outputId": "8097b11b-5393-450a-e353-93622519528c"
      },
      "source": [
        "num.takeOrdered(3)"
      ],
      "execution_count": 65,
      "outputs": [
        {
          "output_type": "execute_result",
          "data": {
            "text/plain": [
              "[2, 2, 3]"
            ]
          },
          "metadata": {
            "tags": []
          },
          "execution_count": 65
        }
      ]
    },
    {
      "cell_type": "markdown",
      "metadata": {
        "id": "YcUZ3ANBSg4G"
      },
      "source": [
        "## fold"
      ]
    },
    {
      "cell_type": "code",
      "metadata": {
        "colab": {
          "base_uri": "https://localhost:8080/"
        },
        "id": "QT6WI_d5Qv0c",
        "outputId": "5d8d091f-119a-46ab-bb59-bfbc13b54d75"
      },
      "source": [
        "test2.glom().collect()"
      ],
      "execution_count": 80,
      "outputs": [
        {
          "output_type": "execute_result",
          "data": {
            "text/plain": [
              "[[1], [2, 3]]"
            ]
          },
          "metadata": {
            "tags": []
          },
          "execution_count": 80
        }
      ]
    },
    {
      "cell_type": "code",
      "metadata": {
        "colab": {
          "base_uri": "https://localhost:8080/"
        },
        "id": "AbZ0iuCiSpLa",
        "outputId": "d19688f2-c869-4b45-f23b-fba281439430"
      },
      "source": [
        "# 1+1 = 2\n",
        "# 1+2+3 = 7\n",
        "# 2+7 = 9\n",
        "test2.fold(1,lambda a,b: a+b)"
      ],
      "execution_count": 81,
      "outputs": [
        {
          "output_type": "execute_result",
          "data": {
            "text/plain": [
              "9"
            ]
          },
          "metadata": {
            "tags": []
          },
          "execution_count": 81
        }
      ]
    },
    {
      "cell_type": "code",
      "metadata": {
        "colab": {
          "base_uri": "https://localhost:8080/"
        },
        "id": "LcbdbRu2SsE5",
        "outputId": "9e24a051-3ea6-44b8-abc6-de47a978e8f7"
      },
      "source": [
        "# 1*1 = 1\n",
        "# 1*2*3 = 6\n",
        "# 1*6 = 6\n",
        "test2.fold(1,lambda a,b: a*b)"
      ],
      "execution_count": 82,
      "outputs": [
        {
          "output_type": "execute_result",
          "data": {
            "text/plain": [
              "6"
            ]
          },
          "metadata": {
            "tags": []
          },
          "execution_count": 82
        }
      ]
    },
    {
      "cell_type": "code",
      "metadata": {
        "colab": {
          "base_uri": "https://localhost:8080/"
        },
        "id": "2vk4Em-KSwj6",
        "outputId": "c4513ebc-67d5-4acb-e0c6-3a544dfcc70c"
      },
      "source": [
        "# 2+1 = 3\n",
        "# 2+2+3 = 7\n",
        "# 2+3+7 = 12 \n",
        "test2.fold(2,lambda a,b: a+b)"
      ],
      "execution_count": 83,
      "outputs": [
        {
          "output_type": "execute_result",
          "data": {
            "text/plain": [
              "12"
            ]
          },
          "metadata": {
            "tags": []
          },
          "execution_count": 83
        }
      ]
    },
    {
      "cell_type": "code",
      "metadata": {
        "colab": {
          "base_uri": "https://localhost:8080/"
        },
        "id": "St1pkoQMS7u6",
        "outputId": "774bf434-48c6-4165-bb49-1e46c9e06562"
      },
      "source": [
        "# 2*1 = 2\n",
        "# 2*2*3 = 12\n",
        "# 2*2*12 = 48\n",
        "test2.fold(2,lambda a,b: a*b)"
      ],
      "execution_count": 84,
      "outputs": [
        {
          "output_type": "execute_result",
          "data": {
            "text/plain": [
              "48"
            ]
          },
          "metadata": {
            "tags": []
          },
          "execution_count": 84
        }
      ]
    },
    {
      "cell_type": "code",
      "metadata": {
        "colab": {
          "base_uri": "https://localhost:8080/"
        },
        "id": "oZA5A6BqU_Yq",
        "outputId": "1b85072a-91fb-4e62-8d9c-fe50ec8bdc5f"
      },
      "source": [
        "from operator import add,mul\n",
        "b = sc.parallelize([1,2,3])\n",
        "b.fold(1,add)"
      ],
      "execution_count": 89,
      "outputs": [
        {
          "output_type": "execute_result",
          "data": {
            "text/plain": [
              "8"
            ]
          },
          "metadata": {
            "tags": []
          },
          "execution_count": 89
        }
      ]
    },
    {
      "cell_type": "code",
      "metadata": {
        "colab": {
          "base_uri": "https://localhost:8080/"
        },
        "id": "2CbssqI0S-Z-",
        "outputId": "33172f36-93f9-4880-9607-a87efc008443"
      },
      "source": [
        "from operator import add,mul\n",
        "b = sc.parallelize([1,2,3],2)\n",
        "b.fold(1,add)"
      ],
      "execution_count": 88,
      "outputs": [
        {
          "output_type": "execute_result",
          "data": {
            "text/plain": [
              "9"
            ]
          },
          "metadata": {
            "tags": []
          },
          "execution_count": 88
        }
      ]
    },
    {
      "cell_type": "code",
      "metadata": {
        "colab": {
          "base_uri": "https://localhost:8080/"
        },
        "id": "encj7VlyUc17",
        "outputId": "4938ebad-5b0c-4950-ce57-d9303ac648b4"
      },
      "source": [
        "from operator import add,mul\n",
        "b = sc.parallelize([1,2,3],2)\n",
        "b.fold(1,mul)"
      ],
      "execution_count": 91,
      "outputs": [
        {
          "output_type": "execute_result",
          "data": {
            "text/plain": [
              "6"
            ]
          },
          "metadata": {
            "tags": []
          },
          "execution_count": 91
        }
      ]
    },
    {
      "cell_type": "code",
      "metadata": {
        "id": "IAY9NrUiVHPa"
      },
      "source": [
        "c = sc.parallelize(range(1,10))"
      ],
      "execution_count": 92,
      "outputs": []
    },
    {
      "cell_type": "code",
      "metadata": {
        "id": "ZiYCFYcuVNhL",
        "outputId": "7f73a8ce-57d9-4c20-c694-a8fab1791c55",
        "colab": {
          "base_uri": "https://localhost:8080/"
        }
      },
      "source": [
        "c.collect()"
      ],
      "execution_count": 94,
      "outputs": [
        {
          "output_type": "execute_result",
          "data": {
            "text/plain": [
              "[1, 2, 3, 4, 5, 6, 7, 8, 9]"
            ]
          },
          "metadata": {
            "tags": []
          },
          "execution_count": 94
        }
      ]
    }
  ]
}